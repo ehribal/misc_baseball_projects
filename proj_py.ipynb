{
 "cells": [
  {
   "cell_type": "code",
   "execution_count": 2,
   "metadata": {},
   "outputs": [
    {
     "name": "stdout",
     "output_type": "stream",
     "text": [
      "1\n",
      "2\n",
      "3\n"
     ]
    }
   ],
   "source": [
    "def count_recursive(n=1):\n",
    "    if n > 3:\n",
    "        return\n",
    "    print(n)\n",
    "    \n",
    "    count_recursive(n+1)\n",
    "\n",
    "count_recursive()"
   ]
  },
  {
   "cell_type": "code",
   "execution_count": 3,
   "metadata": {},
   "outputs": [
    {
     "name": "stdout",
     "output_type": "stream",
     "text": [
      "Collecting pybaseball\n",
      "  Downloading pybaseball-2.1.1-py3-none-any.whl (406 kB)\n",
      "Requirement already satisfied: beautifulsoup4>=4.4.0 in c:\\users\\edward\\anaconda3\\lib\\site-packages (from pybaseball) (4.9.1)\n",
      "Requirement already satisfied: requests>=2.18.1 in c:\\users\\edward\\anaconda3\\lib\\site-packages (from pybaseball) (2.24.0)\n",
      "Requirement already satisfied: pandas>=1.0.3 in c:\\users\\edward\\anaconda3\\lib\\site-packages (from pybaseball) (1.0.5)\n",
      "Collecting altair>=4.0.0\n",
      "  Downloading altair-4.1.0-py3-none-any.whl (727 kB)\n",
      "Requirement already satisfied: scipy>=1.4.0 in c:\\users\\edward\\anaconda3\\lib\\site-packages (from pybaseball) (1.5.0)\n",
      "Requirement already satisfied: lxml>=4.2.1 in c:\\users\\edward\\anaconda3\\lib\\site-packages (from pybaseball) (4.5.2)\n",
      "Requirement already satisfied: numpy>=1.13.0 in c:\\users\\edward\\anaconda3\\lib\\site-packages (from pybaseball) (1.18.5)\n",
      "Collecting pyarrow>=1.0.1\n",
      "  Downloading pyarrow-2.0.0-cp38-cp38-win_amd64.whl (10.7 MB)\n",
      "Collecting pygithub>=1.51\n",
      "  Downloading PyGithub-1.53-py3-none-any.whl (274 kB)\n",
      "Requirement already satisfied: matplotlib>=2.0.0 in c:\\users\\edward\\anaconda3\\lib\\site-packages (from pybaseball) (3.2.2)\n",
      "Requirement already satisfied: soupsieve>1.2 in c:\\users\\edward\\anaconda3\\lib\\site-packages (from beautifulsoup4>=4.4.0->pybaseball) (2.0.1)\n",
      "Requirement already satisfied: chardet<4,>=3.0.2 in c:\\users\\edward\\anaconda3\\lib\\site-packages (from requests>=2.18.1->pybaseball) (3.0.4)\n",
      "Note: you may need to restart the kernel to use updated packages.\n",
      "Requirement already satisfied: idna<3,>=2.5 in c:\\users\\edward\\anaconda3\\lib\\site-packages (from requests>=2.18.1->pybaseball) (2.10)\n",
      "Requirement already satisfied: urllib3!=1.25.0,!=1.25.1,<1.26,>=1.21.1 in c:\\users\\edward\\anaconda3\\lib\\site-packages (from requests>=2.18.1->pybaseball) (1.25.9)\n",
      "Requirement already satisfied: certifi>=2017.4.17 in c:\\users\\edward\\anaconda3\\lib\\site-packages (from requests>=2.18.1->pybaseball) (2020.6.20)\n",
      "Requirement already satisfied: python-dateutil>=2.6.1 in c:\\users\\edward\\anaconda3\\lib\\site-packages (from pandas>=1.0.3->pybaseball) (2.8.1)\n",
      "Requirement already satisfied: pytz>=2017.2 in c:\\users\\edward\\anaconda3\\lib\\site-packages (from pandas>=1.0.3->pybaseball) (2020.1)\n",
      "Requirement already satisfied: entrypoints in c:\\users\\edward\\anaconda3\\lib\\site-packages (from altair>=4.0.0->pybaseball) (0.3)\n",
      "Requirement already satisfied: toolz in c:\\users\\edward\\anaconda3\\lib\\site-packages (from altair>=4.0.0->pybaseball) (0.10.0)\n",
      "Requirement already satisfied: jsonschema in c:\\users\\edward\\anaconda3\\lib\\site-packages (from altair>=4.0.0->pybaseball) (3.2.0)\n",
      "Requirement already satisfied: jinja2 in c:\\users\\edward\\anaconda3\\lib\\site-packages (from altair>=4.0.0->pybaseball) (2.11.2)\n",
      "Collecting pyjwt\n",
      "  Downloading PyJWT-1.7.1-py2.py3-none-any.whl (18 kB)\n",
      "Collecting deprecated\n",
      "  Downloading Deprecated-1.2.10-py2.py3-none-any.whl (8.7 kB)\n",
      "Requirement already satisfied: pyparsing!=2.0.4,!=2.1.2,!=2.1.6,>=2.0.1 in c:\\users\\edward\\anaconda3\\lib\\site-packages (from matplotlib>=2.0.0->pybaseball) (2.4.7)\n",
      "Requirement already satisfied: cycler>=0.10 in c:\\users\\edward\\anaconda3\\lib\\site-packages (from matplotlib>=2.0.0->pybaseball) (0.10.0)\n",
      "Requirement already satisfied: kiwisolver>=1.0.1 in c:\\users\\edward\\anaconda3\\lib\\site-packages (from matplotlib>=2.0.0->pybaseball) (1.2.0)\n",
      "Requirement already satisfied: six>=1.5 in c:\\users\\edward\\anaconda3\\lib\\site-packages (from python-dateutil>=2.6.1->pandas>=1.0.3->pybaseball) (1.15.0)\n",
      "Requirement already satisfied: pyrsistent>=0.14.0 in c:\\users\\edward\\anaconda3\\lib\\site-packages (from jsonschema->altair>=4.0.0->pybaseball) (0.16.0)\n",
      "Requirement already satisfied: setuptools in c:\\users\\edward\\anaconda3\\lib\\site-packages (from jsonschema->altair>=4.0.0->pybaseball) (49.2.0.post20200714)\n",
      "Requirement already satisfied: attrs>=17.4.0 in c:\\users\\edward\\anaconda3\\lib\\site-packages (from jsonschema->altair>=4.0.0->pybaseball) (19.3.0)\n",
      "Requirement already satisfied: MarkupSafe>=0.23 in c:\\users\\edward\\anaconda3\\lib\\site-packages (from jinja2->altair>=4.0.0->pybaseball) (1.1.1)\n",
      "Requirement already satisfied: wrapt<2,>=1.10 in c:\\users\\edward\\anaconda3\\lib\\site-packages (from deprecated->pygithub>=1.51->pybaseball) (1.11.2)\n",
      "Installing collected packages: altair, pyarrow, pyjwt, deprecated, pygithub, pybaseball\n",
      "Successfully installed altair-4.1.0 deprecated-1.2.10 pyarrow-2.0.0 pybaseball-2.1.1 pygithub-1.53 pyjwt-1.7.1\n"
     ]
    }
   ],
   "source": [
    "pip install pybaseball"
   ]
  },
  {
   "cell_type": "code",
   "execution_count": 6,
   "metadata": {},
   "outputs": [
    {
     "name": "stdout",
     "output_type": "stream",
     "text": [
      "This is a large query, it may take a moment to complete\n",
      "Skipping offseason dates\n",
      "Query unsuccessful for data from 2020-03-15 to 2020-03-20. Skipping these dates.\n",
      "Query unsuccessful for data from 2020-03-21 to 2020-03-21. Skipping these dates.\n",
      "Query unsuccessful for data from 2020-03-22 to 2020-03-26. Skipping these dates.\n",
      "Query unsuccessful for data from 2020-03-27 to 2020-03-27. Skipping these dates.\n",
      "Query unsuccessful for data from 2020-03-28 to 2020-04-01. Skipping these dates.\n",
      "Query unsuccessful for data from 2020-04-02 to 2020-04-02. Skipping these dates.\n",
      "Query unsuccessful for data from 2020-04-03 to 2020-04-07. Skipping these dates.\n",
      "Query unsuccessful for data from 2020-04-08 to 2020-04-08. Skipping these dates.\n",
      "Query unsuccessful for data from 2020-04-09 to 2020-04-13. Skipping these dates.\n",
      "Query unsuccessful for data from 2020-04-14 to 2020-04-14. Skipping these dates.\n",
      "Query unsuccessful for data from 2020-04-15 to 2020-04-19. Skipping these dates.\n",
      "Query unsuccessful for data from 2020-04-20 to 2020-04-20. Skipping these dates.\n",
      "Query unsuccessful for data from 2020-04-21 to 2020-04-25. Skipping these dates.\n",
      "Query unsuccessful for data from 2020-04-26 to 2020-04-26. Skipping these dates.\n",
      "Query unsuccessful for data from 2020-04-27 to 2020-05-01. Skipping these dates.\n",
      "Query unsuccessful for data from 2020-05-02 to 2020-05-02. Skipping these dates.\n",
      "Query unsuccessful for data from 2020-05-03 to 2020-05-07. Skipping these dates.\n",
      "Query unsuccessful for data from 2020-05-08 to 2020-05-08. Skipping these dates.\n",
      "Query unsuccessful for data from 2020-05-09 to 2020-05-13. Skipping these dates.\n",
      "Query unsuccessful for data from 2020-05-14 to 2020-05-14. Skipping these dates.\n",
      "Query unsuccessful for data from 2020-05-15 to 2020-05-19. Skipping these dates.\n",
      "Query unsuccessful for data from 2020-05-20 to 2020-05-20. Skipping these dates.\n",
      "Query unsuccessful for data from 2020-05-21 to 2020-05-25. Skipping these dates.\n",
      "Query unsuccessful for data from 2020-05-26 to 2020-05-26. Skipping these dates.\n",
      "Query unsuccessful for data from 2020-05-27 to 2020-05-31. Skipping these dates.\n",
      "Query unsuccessful for data from 2020-06-01 to 2020-06-01. Skipping these dates.\n",
      "Query unsuccessful for data from 2020-06-02 to 2020-06-06. Skipping these dates.\n",
      "Query unsuccessful for data from 2020-06-07 to 2020-06-07. Skipping these dates.\n",
      "Query unsuccessful for data from 2020-06-08 to 2020-06-12. Skipping these dates.\n",
      "Query unsuccessful for data from 2020-06-13 to 2020-06-13. Skipping these dates.\n",
      "Query unsuccessful for data from 2020-06-14 to 2020-06-18. Skipping these dates.\n",
      "Query unsuccessful for data from 2020-06-19 to 2020-06-19. Skipping these dates.\n",
      "Query unsuccessful for data from 2020-06-20 to 2020-06-24. Skipping these dates.\n",
      "Query unsuccessful for data from 2020-06-25 to 2020-06-25. Skipping these dates.\n",
      "Query unsuccessful for data from 2020-06-26 to 2020-06-30. Skipping these dates.\n",
      "Query unsuccessful for data from 2020-07-01 to 2020-07-01. Skipping these dates.\n",
      "Query unsuccessful for data from 2020-07-02 to 2020-07-06. Skipping these dates.\n",
      "Query unsuccessful for data from 2020-07-07 to 2020-07-07. Skipping these dates.\n",
      "Query unsuccessful for data from 2020-07-08 to 2020-07-12. Skipping these dates.\n",
      "Query unsuccessful for data from 2020-07-13 to 2020-07-13. Skipping these dates.\n",
      "Query unsuccessful for data from 2020-07-14 to 2020-07-18. Skipping these dates.\n",
      "Query unsuccessful for data from 2020-07-19 to 2020-07-19. Skipping these dates.\n",
      "Completed sub-query from 2020-07-20 to 2020-07-25\n",
      "Completed sub-query from 2020-07-26 to 2020-07-31\n",
      "Completed sub-query from 2020-08-01 to 2020-08-06\n",
      "Completed sub-query from 2020-08-07 to 2020-08-12\n",
      "Completed sub-query from 2020-08-13 to 2020-08-18\n",
      "Completed sub-query from 2020-08-19 to 2020-08-24\n",
      "Completed sub-query from 2020-08-25 to 2020-08-30\n",
      "Completed sub-query from 2020-08-31 to 2020-09-05\n",
      "Completed sub-query from 2020-09-06 to 2020-09-11\n",
      "Completed sub-query from 2020-09-12 to 2020-09-17\n",
      "Completed sub-query from 2020-09-18 to 2020-09-23\n",
      "Completed sub-query from 2020-09-24 to 2020-09-29\n",
      "Completed sub-query from 2020-09-30 to 2020-10-3\n"
     ]
    },
    {
     "data": {
      "text/html": [
       "<div>\n",
       "<style scoped>\n",
       "    .dataframe tbody tr th:only-of-type {\n",
       "        vertical-align: middle;\n",
       "    }\n",
       "\n",
       "    .dataframe tbody tr th {\n",
       "        vertical-align: top;\n",
       "    }\n",
       "\n",
       "    .dataframe thead th {\n",
       "        text-align: right;\n",
       "    }\n",
       "</style>\n",
       "<table border=\"1\" class=\"dataframe\">\n",
       "  <thead>\n",
       "    <tr style=\"text-align: right;\">\n",
       "      <th></th>\n",
       "      <th>index</th>\n",
       "      <th>pitch_type</th>\n",
       "      <th>game_date</th>\n",
       "      <th>release_speed</th>\n",
       "      <th>release_pos_x</th>\n",
       "      <th>release_pos_z</th>\n",
       "      <th>player_name</th>\n",
       "      <th>batter</th>\n",
       "      <th>pitcher</th>\n",
       "      <th>events</th>\n",
       "      <th>...</th>\n",
       "      <th>home_score</th>\n",
       "      <th>away_score</th>\n",
       "      <th>bat_score</th>\n",
       "      <th>fld_score</th>\n",
       "      <th>post_away_score</th>\n",
       "      <th>post_home_score</th>\n",
       "      <th>post_bat_score</th>\n",
       "      <th>post_fld_score</th>\n",
       "      <th>if_fielding_alignment</th>\n",
       "      <th>of_fielding_alignment</th>\n",
       "    </tr>\n",
       "  </thead>\n",
       "  <tbody>\n",
       "    <tr>\n",
       "      <th>0</th>\n",
       "      <td>19</td>\n",
       "      <td>SI</td>\n",
       "      <td>2020-10-02</td>\n",
       "      <td>93.2</td>\n",
       "      <td>-1.14</td>\n",
       "      <td>5.90</td>\n",
       "      <td>Brandon Kintzler</td>\n",
       "      <td>543401.0</td>\n",
       "      <td>445213.0</td>\n",
       "      <td>strikeout</td>\n",
       "      <td>...</td>\n",
       "      <td>0.0</td>\n",
       "      <td>2.0</td>\n",
       "      <td>0.0</td>\n",
       "      <td>2.0</td>\n",
       "      <td>2.0</td>\n",
       "      <td>0.0</td>\n",
       "      <td>0.0</td>\n",
       "      <td>2.0</td>\n",
       "      <td>Standard</td>\n",
       "      <td>Strategic</td>\n",
       "    </tr>\n",
       "    <tr>\n",
       "      <th>1</th>\n",
       "      <td>20</td>\n",
       "      <td>SL</td>\n",
       "      <td>2020-10-02</td>\n",
       "      <td>85.3</td>\n",
       "      <td>-1.34</td>\n",
       "      <td>5.87</td>\n",
       "      <td>Brandon Kintzler</td>\n",
       "      <td>543401.0</td>\n",
       "      <td>445213.0</td>\n",
       "      <td>NaN</td>\n",
       "      <td>...</td>\n",
       "      <td>0.0</td>\n",
       "      <td>2.0</td>\n",
       "      <td>0.0</td>\n",
       "      <td>2.0</td>\n",
       "      <td>2.0</td>\n",
       "      <td>0.0</td>\n",
       "      <td>0.0</td>\n",
       "      <td>2.0</td>\n",
       "      <td>Standard</td>\n",
       "      <td>Strategic</td>\n",
       "    </tr>\n",
       "  </tbody>\n",
       "</table>\n",
       "<p>2 rows × 90 columns</p>\n",
       "</div>"
      ],
      "text/plain": [
       "   index pitch_type  game_date  release_speed  release_pos_x  release_pos_z  \\\n",
       "0     19         SI 2020-10-02           93.2          -1.14           5.90   \n",
       "1     20         SL 2020-10-02           85.3          -1.34           5.87   \n",
       "\n",
       "        player_name    batter   pitcher     events  ... home_score  \\\n",
       "0  Brandon Kintzler  543401.0  445213.0  strikeout  ...        0.0   \n",
       "1  Brandon Kintzler  543401.0  445213.0        NaN  ...        0.0   \n",
       "\n",
       "   away_score  bat_score  fld_score  post_away_score  post_home_score  \\\n",
       "0         2.0        0.0        2.0              2.0              0.0   \n",
       "1         2.0        0.0        2.0              2.0              0.0   \n",
       "\n",
       "  post_bat_score post_fld_score if_fielding_alignment of_fielding_alignment  \n",
       "0            0.0            2.0              Standard             Strategic  \n",
       "1            0.0            2.0              Standard             Strategic  \n",
       "\n",
       "[2 rows x 90 columns]"
      ]
     },
     "execution_count": 6,
     "metadata": {},
     "output_type": "execute_result"
    }
   ],
   "source": [
    "from pybaseball import statcast\n",
    "data = statcast(start_dt='2019-01-1', end_dt='2020-10-3')\n",
    "data.head(2)"
   ]
  },
  {
   "cell_type": "code",
   "execution_count": 9,
   "metadata": {},
   "outputs": [
    {
     "data": {
      "text/plain": [
       "1          José Abreu\n",
       "2    Ronald Acuna Jr.\n",
       "3    Cristhian Adames\n",
       "4        Willy Adames\n",
       "5        Austin Adams\n",
       "Name: Name, dtype: object"
      ]
     },
     "execution_count": 9,
     "metadata": {},
     "output_type": "execute_result"
    }
   ],
   "source": [
    "import pandas as pd\n",
    "from pybaseball import batting_stats_range"
   ]
  },
  {
   "cell_type": "code",
   "execution_count": 28,
   "metadata": {},
   "outputs": [
    {
     "name": "stdout",
     "output_type": "stream",
     "text": [
      "0.4948679357616556\n",
      "0.37600541996258513\n"
     ]
    }
   ],
   "source": [
    "data2018 = batting_stats_range('2018-01-01', '2018-12-31')\n",
    "data2018 = data2018[[\"Name\",\"OPS\"]]\n",
    "data2018 = data2018.rename(columns={\"OPS\":\"OPS18\"})\n",
    "\n",
    "data2019 = batting_stats_range('2019-01-01', '2019-12-31')\n",
    "data2019 = data2019[[\"Name\",\"OPS\"]]\n",
    "data2019 = data2019.rename(columns={\"OPS\":\"OPS19\"})\n",
    "\n",
    "data2020 = batting_stats_range('2020-01-01', '2020-12-31')\n",
    "data2020 = data2020[[\"Name\",\"OPS\"]]\n",
    "data2020 = data2020.rename(columns={\"OPS\":\"OPS20\"})\n",
    "\n",
    "data_1819 = pd.merge(data2018, data2019, on='Name')\n",
    "data_1920 = pd.merge(data2019, data2020, on='Name')\n",
    "\n",
    "print(data_1819[\"OPS18\"].corr(data_1819[\"OPS19\"]))\n",
    "print(data_1920[\"OPS19\"].corr(data_1920[\"OPS20\"]))"
   ]
  },
  {
   "cell_type": "code",
   "execution_count": null,
   "metadata": {},
   "outputs": [],
   "source": []
  }
 ],
 "metadata": {
  "kernelspec": {
   "display_name": "Python 3",
   "language": "python",
   "name": "python3"
  },
  "language_info": {
   "codemirror_mode": {
    "name": "ipython",
    "version": 3
   },
   "file_extension": ".py",
   "mimetype": "text/x-python",
   "name": "python",
   "nbconvert_exporter": "python",
   "pygments_lexer": "ipython3",
   "version": "3.8.3"
  }
 },
 "nbformat": 4,
 "nbformat_minor": 4
}
